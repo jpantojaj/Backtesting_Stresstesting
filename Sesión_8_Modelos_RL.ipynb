{
  "cells": [
    {
      "cell_type": "markdown",
      "metadata": {
        "id": "view-in-github",
        "colab_type": "text"
      },
      "source": [
        "<a href=\"https://colab.research.google.com/github/jpantojaj/Backtesting_Stresstesting/blob/main/Sesi%C3%B3n_8_Modelos_RL.ipynb\" target=\"_parent\"><img src=\"https://colab.research.google.com/assets/colab-badge.svg\" alt=\"Open In Colab\"/></a>"
      ]
    },
    {
      "cell_type": "markdown",
      "metadata": {
        "id": "ooITxNR9Ytb3"
      },
      "source": [
        "## Importamos librerias y data"
      ]
    },
    {
      "cell_type": "code",
      "execution_count": null,
      "metadata": {
        "id": "ypG7CCd_Ytb6"
      },
      "outputs": [],
      "source": [
        "import pandas as pd\n",
        "import numpy as np\n",
        "import matplotlib.pyplot as plt\n",
        "import statsmodels.graphics.tsaplots as sgt\n",
        "import statsmodels.tsa.stattools as sts\n",
        "from statsmodels.tsa.arima_model import ARIMA\n",
        "from scipy.stats.distributions import chi2\n",
        "from arch import arch_model\n",
        "from math import sqrt\n",
        "import seaborn as sns\n",
        "sns.set()\n",
        "import plotly.express as px\n",
        "import plotly.figure_factory as ff\n",
        "import plotly.graph_objects as go\n",
        "import warnings\n",
        "warnings.filterwarnings(\"ignore\")"
      ]
    },
    {
      "cell_type": "code",
      "execution_count": null,
      "metadata": {
        "id": "E1tIhuN6Ytb8"
      },
      "outputs": [],
      "source": [
        "raw_csv_data = pd.read_csv(\"flujo_caja.csv\")"
      ]
    },
    {
      "cell_type": "markdown",
      "metadata": {
        "id": "YH6_f2-UYtb9"
      },
      "source": [
        "## Exploramos la data"
      ]
    },
    {
      "cell_type": "code",
      "execution_count": null,
      "metadata": {
        "id": "WKN-BLp4Ytb-"
      },
      "outputs": [],
      "source": [
        "raw_csv_data"
      ]
    },
    {
      "cell_type": "code",
      "execution_count": null,
      "metadata": {
        "id": "YdXHMkykYtb-"
      },
      "outputs": [],
      "source": [
        "raw_csv_data.sort_values(by = ['Date'])"
      ]
    },
    {
      "cell_type": "code",
      "execution_count": null,
      "metadata": {
        "id": "V-0pHppcYtb-"
      },
      "outputs": [],
      "source": [
        "raw_csv_data.info()"
      ]
    },
    {
      "cell_type": "code",
      "execution_count": null,
      "metadata": {
        "id": "5NE0BtuHYtb_"
      },
      "outputs": [],
      "source": [
        "raw_csv_data['Date'] = pd.to_datetime(raw_csv_data['Date'])\n",
        "raw_csv_data.info()"
      ]
    },
    {
      "cell_type": "code",
      "execution_count": null,
      "metadata": {
        "id": "tGMvUosdYtcA"
      },
      "outputs": [],
      "source": [
        "raw_csv_data"
      ]
    },
    {
      "cell_type": "code",
      "execution_count": null,
      "metadata": {
        "id": "NtYLK-8yYtcA"
      },
      "outputs": [],
      "source": [
        "raw_csv_data.set_index('Date', inplace=True)"
      ]
    },
    {
      "cell_type": "code",
      "execution_count": null,
      "metadata": {
        "id": "CHOiSOPoYtcA"
      },
      "outputs": [],
      "source": [
        "raw_csv_data"
      ]
    },
    {
      "cell_type": "code",
      "execution_count": null,
      "metadata": {
        "id": "8U7ENcmTYtcB"
      },
      "outputs": [],
      "source": [
        "raw_csv_data.info()"
      ]
    },
    {
      "cell_type": "code",
      "execution_count": null,
      "metadata": {
        "id": "B_a6rIWuYtca"
      },
      "outputs": [],
      "source": [
        "raw_csv_data.isnull().sum()"
      ]
    },
    {
      "cell_type": "code",
      "execution_count": null,
      "metadata": {
        "id": "gOUArAVqYtcb"
      },
      "outputs": [],
      "source": [
        "raw_csv_data.describe()"
      ]
    },
    {
      "cell_type": "code",
      "execution_count": null,
      "metadata": {
        "id": "G1zXTlveYtcb"
      },
      "outputs": [],
      "source": [
        "raw_csv_data.plot(figsize = (15,7), linewidth = 3, title = 'FlujoNetoRelativizado')\n",
        "plt.grid()\n",
        "plt.show()"
      ]
    },
    {
      "cell_type": "code",
      "execution_count": null,
      "metadata": {
        "id": "E9hRi8cvYtcb"
      },
      "outputs": [],
      "source": [
        "px.line(raw_csv_data, title='FlujoNetoRelativizado')"
      ]
    },
    {
      "cell_type": "code",
      "execution_count": null,
      "metadata": {
        "id": "refq2QmbYtcd"
      },
      "outputs": [],
      "source": [
        "std_daily = raw_csv_data['FNR'].std()\n",
        "print('Volatilidad Diaria: ', '{:.2f}%'.format(std_daily))"
      ]
    },
    {
      "cell_type": "code",
      "execution_count": null,
      "metadata": {
        "id": "uPbDeG9WYtcd"
      },
      "outputs": [],
      "source": [
        "std_monthly = sqrt(21) * std_daily\n",
        "print ('Volatilidad Mensual: ', '{:.2f}%'.format(std_monthly))"
      ]
    },
    {
      "cell_type": "code",
      "execution_count": null,
      "metadata": {
        "id": "_0leNTLwYtcd"
      },
      "outputs": [],
      "source": [
        "std_annual = sqrt(252) * std_daily\n",
        "print ('Volatilidad Anual: ', '{:.2f}%'.format(std_annual))"
      ]
    },
    {
      "cell_type": "markdown",
      "metadata": {
        "id": "a1bM-C9KYtce"
      },
      "source": [
        "## Generamos estimaciones para la volatilidad"
      ]
    },
    {
      "cell_type": "code",
      "execution_count": null,
      "metadata": {
        "id": "BzsNnUj_Ytce"
      },
      "outputs": [],
      "source": [
        "size = int(len(raw_csv_data)*0.8)\n",
        "df, df_test = raw_csv_data.iloc[:size], raw_csv_data.iloc[size:]"
      ]
    },
    {
      "cell_type": "code",
      "execution_count": null,
      "metadata": {
        "scrolled": true,
        "id": "mKtwZCoDYtce"
      },
      "outputs": [],
      "source": [
        "df.head()"
      ]
    },
    {
      "cell_type": "code",
      "execution_count": null,
      "metadata": {
        "id": "HUOSmE44Ytce"
      },
      "outputs": [],
      "source": [
        "df.tail()"
      ]
    },
    {
      "cell_type": "code",
      "execution_count": null,
      "metadata": {
        "id": "ZjxyZswbYtcf"
      },
      "outputs": [],
      "source": [
        "df_test.head()"
      ]
    },
    {
      "cell_type": "code",
      "execution_count": null,
      "metadata": {
        "id": "PgtXOzReYtcf"
      },
      "outputs": [],
      "source": [
        "df_test.tail()"
      ]
    },
    {
      "cell_type": "code",
      "execution_count": null,
      "metadata": {
        "id": "C4YLvOLRYtcf"
      },
      "outputs": [],
      "source": [
        "# GARCH (Supuesto Normal)\n",
        "basic_gm = arch_model(raw_csv_data['FNR'], p = 1, q = 1,\n",
        "                      mean = 'constant', vol = 'GARCH', dist = 'normal')\n",
        "gm_result = basic_gm.fit()"
      ]
    },
    {
      "cell_type": "code",
      "execution_count": null,
      "metadata": {
        "id": "9SlpRD05Ytcf"
      },
      "outputs": [],
      "source": [
        "gm_result.summary()"
      ]
    },
    {
      "cell_type": "code",
      "execution_count": null,
      "metadata": {
        "id": "O85ml3ZBYtcg"
      },
      "outputs": [],
      "source": [
        "gm_result.plot()\n",
        "plt.show()"
      ]
    },
    {
      "cell_type": "code",
      "execution_count": null,
      "metadata": {
        "id": "QsaXf4PxYtcg"
      },
      "outputs": [],
      "source": [
        "gm_forecast = gm_result.forecast(horizon = 5)\n",
        "print(gm_forecast.variance[-1:])"
      ]
    },
    {
      "cell_type": "code",
      "execution_count": null,
      "metadata": {
        "id": "5352GsXvYtcg"
      },
      "outputs": [],
      "source": [
        "gm_result2 = basic_gm.fit(last_obs='2017-11-29', update_freq = 10)\n",
        "pred_gm = gm_result2.forecast(horizon = 1, align='target')"
      ]
    },
    {
      "cell_type": "code",
      "execution_count": null,
      "metadata": {
        "id": "v2pxyU7zYtcg"
      },
      "outputs": [],
      "source": [
        "pred_gm.variance"
      ]
    },
    {
      "cell_type": "code",
      "execution_count": null,
      "metadata": {
        "id": "zM95OJsJYtch"
      },
      "outputs": [],
      "source": [
        "pred_gm.mean"
      ]
    },
    {
      "cell_type": "code",
      "execution_count": null,
      "metadata": {
        "id": "wUOHjKXLYtch"
      },
      "outputs": [],
      "source": [
        "plt.title(\"Predicciones de Volatilidad\", size = 24)\n",
        "plt.plot(pred_gm.variance['2017-11-29':], color = 'red')\n",
        "plt.plot(df_test.FNR, color = 'blue')\n",
        "plt.show()"
      ]
    },
    {
      "cell_type": "code",
      "execution_count": null,
      "metadata": {
        "id": "058prHlOYtci"
      },
      "outputs": [],
      "source": [
        "# Obtiene los residuales de estimación y la volatilidad\n",
        "gm_resid = gm_result.resid\n",
        "gm_std = gm_result.conditional_volatility\n",
        "\n",
        "# calcula los residuales estandarizados\n",
        "gm_std_resid = gm_resid /gm_std"
      ]
    },
    {
      "cell_type": "code",
      "execution_count": null,
      "metadata": {
        "id": "vDGxA_wZYtci"
      },
      "outputs": [],
      "source": [
        "# Histograma de Residuales estandarizados\n",
        "plt.figure(figsize=(10, 5))\n",
        "plt.hist(gm_std_resid, bins = 50,\n",
        "         facecolor = 'orange', label = 'Standardized residuals')\n",
        "plt.legend(loc = 'upper left')\n",
        "plt.show()"
      ]
    },
    {
      "cell_type": "code",
      "execution_count": null,
      "metadata": {
        "id": "nLjq-ZctYtci"
      },
      "outputs": [],
      "source": [
        "from statsmodels.graphics.tsaplots import plot_acf\n",
        "plot_acf(gm_std_resid, alpha = 0.05, zero = False)\n",
        "plt.show()"
      ]
    },
    {
      "cell_type": "code",
      "execution_count": null,
      "metadata": {
        "id": "6y_hjs7dYtcj"
      },
      "outputs": [],
      "source": [
        "from statsmodels.stats.diagnostic import acorr_ljungbox\n",
        "lb_test_gm = acorr_ljungbox(gm_std_resid , lags = 10)\n",
        "print('P-values are: ', lb_test_gm[1])"
      ]
    },
    {
      "cell_type": "code",
      "execution_count": null,
      "metadata": {
        "id": "cpqiND9WYtcj"
      },
      "outputs": [],
      "source": [
        "from scipy.stats import shapiro\n",
        "shapiro_results = shapiro(gm_std_resid)\n",
        "print(\"Shapiro results:\", shapiro_results)\n",
        "p_value = shapiro_results[1]\n",
        "print(\"P-value: \", p_value)"
      ]
    },
    {
      "cell_type": "code",
      "execution_count": null,
      "metadata": {
        "id": "aOV1UNDwYtcj"
      },
      "outputs": [],
      "source": [
        "# GARCH (Supuesto t)\n",
        "skewt_gm = arch_model(raw_csv_data['FNR'], p = 1, q = 1, mean = 'constant', vol = 'GARCH', dist = 'skewt')\n",
        "skewt_result = skewt_gm.fit()"
      ]
    },
    {
      "cell_type": "code",
      "execution_count": null,
      "metadata": {
        "id": "owGS6yzXYtck"
      },
      "outputs": [],
      "source": [
        "skewt_result.summary()"
      ]
    },
    {
      "cell_type": "code",
      "execution_count": null,
      "metadata": {
        "id": "Yc7Fq4hnYtck"
      },
      "outputs": [],
      "source": [
        "skewt_result.plot()\n",
        "plt.show()"
      ]
    },
    {
      "cell_type": "code",
      "execution_count": null,
      "metadata": {
        "id": "S612ldADYtck"
      },
      "outputs": [],
      "source": [
        "skewt_forecast = skewt_result.forecast(horizon = 5)\n",
        "print(skewt_forecast.variance[-1:])"
      ]
    },
    {
      "cell_type": "code",
      "execution_count": null,
      "metadata": {
        "id": "H3DU9ukQYtck"
      },
      "outputs": [],
      "source": [
        "skewt_result2 = skewt_gm.fit(last_obs='2017-11-29', update_freq = 10)\n",
        "pred_skewt_gm = skewt_result2.forecast(horizon = 1, align='target')\n",
        "pred_skewt_gm"
      ]
    },
    {
      "cell_type": "code",
      "execution_count": null,
      "metadata": {
        "id": "WyCY5grHYtcl"
      },
      "outputs": [],
      "source": [
        "plt.title(\"Predicciones de Volatilidad\", size = 24)\n",
        "plt.plot(pred_skewt_gm.variance['2017-11-29':], color = 'red')\n",
        "plt.plot(df_test.FNR, color = 'blue')\n",
        "plt.show()"
      ]
    },
    {
      "cell_type": "code",
      "execution_count": null,
      "metadata": {
        "id": "y_pAr6O5Ytcl"
      },
      "outputs": [],
      "source": [
        "# Obtiene los residuales de estimación y la volatilidad\n",
        "skm_resid = skewt_result.resid\n",
        "skm_std = skewt_result.conditional_volatility\n",
        "\n",
        "# calcula los residuales estandarizados\n",
        "skm_std_resid = skm_resid /skm_std"
      ]
    },
    {
      "cell_type": "code",
      "execution_count": null,
      "metadata": {
        "id": "khoivm0SYtcl"
      },
      "outputs": [],
      "source": [
        "# Histograma de Residuales estandarizados\n",
        "plt.figure(figsize=(10, 5))\n",
        "plt.hist(skm_std_resid, bins = 50,\n",
        "         facecolor = 'orange', label = 'Standardized residuals')\n",
        "plt.legend(loc = 'upper left')\n",
        "plt.show()"
      ]
    },
    {
      "cell_type": "code",
      "execution_count": null,
      "metadata": {
        "id": "ruoVmLiIYtcl"
      },
      "outputs": [],
      "source": [
        "from statsmodels.graphics.tsaplots import plot_acf\n",
        "plot_acf(skm_std_resid, alpha = 0.05, zero = False)\n",
        "plt.show()"
      ]
    },
    {
      "cell_type": "code",
      "execution_count": null,
      "metadata": {
        "id": "VIYbmeB6Ytcm"
      },
      "outputs": [],
      "source": [
        "from statsmodels.stats.diagnostic import acorr_ljungbox\n",
        "lb_test_skm = acorr_ljungbox(skm_std_resid , lags = 10)\n",
        "print('P-values are: ', lb_test_skm[1])"
      ]
    },
    {
      "cell_type": "code",
      "execution_count": null,
      "metadata": {
        "id": "kwYvdvBqYtcm"
      },
      "outputs": [],
      "source": [
        "plt.figure(figsize=(10, 5))\n",
        "plt.plot(skm_std, color = 'gold', label = 'Skewed-t Volatility')\n",
        "plt.plot(gm_std, color = 'red', label = 'Normal Volatility')\n",
        "plt.plot(raw_csv_data['FNR'], color = 'grey',\n",
        "         label = 'FNR', alpha = 0.4)\n",
        "plt.legend(loc = 'upper right')\n",
        "plt.show()"
      ]
    },
    {
      "cell_type": "code",
      "execution_count": null,
      "metadata": {
        "id": "TltCO06lYtcm"
      },
      "outputs": [],
      "source": [
        "#hallaremos diferentes aproximaciones cambiando la media para realizar comparaciones\n",
        "zeromean_gm = arch_model(df['FNR'], p = 1, q = 1, mean = 'zero', vol = 'GARCH')\n",
        "zmean_result = zeromean_gm.fit()\n",
        "\n",
        "cmean_gm = arch_model(df['FNR'], p = 1, q = 1, mean = 'constant', vol = 'GARCH')\n",
        "cmean_result = cmean_gm.fit()\n",
        "\n",
        "armean_gm = arch_model(df['FNR'], p = 1, q = 1, mean = 'AR', lags=1, vol = 'GARCH')\n",
        "armean_result = armean_gm.fit()"
      ]
    },
    {
      "cell_type": "code",
      "execution_count": null,
      "metadata": {
        "id": "w5aE4NjuYtcn"
      },
      "outputs": [],
      "source": [
        "print(zmean_result.summary())\n",
        "print(cmean_result.summary())\n",
        "print(armean_result.summary())"
      ]
    },
    {
      "cell_type": "code",
      "execution_count": null,
      "metadata": {
        "id": "p8l-TOtNYtcn"
      },
      "outputs": [],
      "source": [
        "zmean_vol=zmean_result.conditional_volatility\n",
        "cmean_vol=cmean_result.conditional_volatility\n",
        "armean_vol=armean_result.conditional_volatility"
      ]
    },
    {
      "cell_type": "code",
      "execution_count": null,
      "metadata": {
        "id": "hjtUql-1Ytcn"
      },
      "outputs": [],
      "source": [
        "zmean_vol.head()"
      ]
    },
    {
      "cell_type": "code",
      "execution_count": null,
      "metadata": {
        "id": "1P1HxJE4Ytco"
      },
      "outputs": [],
      "source": [
        "cmean_vol.head()"
      ]
    },
    {
      "cell_type": "code",
      "execution_count": null,
      "metadata": {
        "id": "wCClni1NYtco"
      },
      "outputs": [],
      "source": [
        "armean_vol.head()"
      ]
    },
    {
      "cell_type": "code",
      "execution_count": null,
      "metadata": {
        "id": "mQcu9dc5Ytco"
      },
      "outputs": [],
      "source": [
        "# Plot model volatility\n",
        "plt.plot(zmean_vol, color = 'green', label = 'Zero Mean Volatility')\n",
        "plt.plot(cmean_vol, color = 'blue', label = 'Constant Mean Volatility')\n",
        "plt.plot(armean_vol, color = 'red', label = 'AR Mean Volatility')\n",
        "plt.legend(loc = 'upper right')\n",
        "plt.show()"
      ]
    },
    {
      "cell_type": "code",
      "execution_count": null,
      "metadata": {
        "id": "kBLV0kXFYtcp"
      },
      "outputs": [],
      "source": [
        "print(np.corrcoef(zmean_vol[1:], cmean_vol[1:])[0,1])\n",
        "print(np.corrcoef(cmean_vol[1:], armean_vol[1:])[0,1])"
      ]
    },
    {
      "cell_type": "markdown",
      "metadata": {
        "id": "3KScK4D9Ytcp"
      },
      "source": [
        "## Calcular el VaR"
      ]
    },
    {
      "cell_type": "code",
      "execution_count": null,
      "metadata": {
        "id": "M7nPPo43Ytcp"
      },
      "outputs": [],
      "source": [
        "# Quantile Empírico\n",
        "q_empirical = gm_std.quantile(0.05)\n",
        "print('5% Empirico: ', q_empirical)"
      ]
    },
    {
      "cell_type": "code",
      "execution_count": null,
      "metadata": {
        "id": "Hndo36T5Ytcp"
      },
      "outputs": [],
      "source": [
        "# Calcula el VaR Empírico\n",
        "VaR_empirical = pred_gm.mean.values + np.sqrt(pred_gm.variance).values * q_empirical\n",
        "VaR_empirical = pd.DataFrame(VaR_empirical, columns = ['5%'], index = pred_gm.variance.index)\n",
        "VaR_empirical"
      ]
    },
    {
      "cell_type": "code",
      "execution_count": null,
      "metadata": {
        "id": "KVgvvZoxYtcq"
      },
      "outputs": [],
      "source": [
        "# Grafica el VaR\n",
        "plt.plot(VaR_empirical, color = 'brown', label = '5% Empirical VaR')\n",
        "plt.scatter(pred_gm.variance.index,raw_csv_data.FNR, color = 'orange', label = 'FNR' )\n",
        "plt.legend(loc = 'upper right')\n",
        "plt.show()"
      ]
    },
    {
      "cell_type": "code",
      "execution_count": null,
      "metadata": {
        "id": "baAxGAOxYtcq"
      },
      "outputs": [],
      "source": []
    }
  ],
  "metadata": {
    "kernelspec": {
      "display_name": "Python 3",
      "language": "python",
      "name": "python3"
    },
    "language_info": {
      "codemirror_mode": {
        "name": "ipython",
        "version": 3
      },
      "file_extension": ".py",
      "mimetype": "text/x-python",
      "name": "python",
      "nbconvert_exporter": "python",
      "pygments_lexer": "ipython3",
      "version": "3.8.5"
    },
    "colab": {
      "provenance": [],
      "include_colab_link": true
    }
  },
  "nbformat": 4,
  "nbformat_minor": 0
}