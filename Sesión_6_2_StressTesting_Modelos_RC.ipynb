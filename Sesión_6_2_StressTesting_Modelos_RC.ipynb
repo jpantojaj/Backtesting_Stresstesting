{
  "nbformat": 4,
  "nbformat_minor": 0,
  "metadata": {
    "colab": {
      "provenance": [],
      "authorship_tag": "ABX9TyOH2JD37NKGSDEOri0kS68/",
      "include_colab_link": true
    },
    "kernelspec": {
      "name": "python3",
      "display_name": "Python 3"
    },
    "language_info": {
      "name": "python"
    }
  },
  "cells": [
    {
      "cell_type": "markdown",
      "metadata": {
        "id": "view-in-github",
        "colab_type": "text"
      },
      "source": [
        "<a href=\"https://colab.research.google.com/github/jpantojaj/Backtesting_Stresstesting/blob/main/Sesi%C3%B3n_6_2_StressTesting_Modelos_RC.ipynb\" target=\"_parent\"><img src=\"https://colab.research.google.com/assets/colab-badge.svg\" alt=\"Open In Colab\"/></a>"
      ]
    },
    {
      "cell_type": "code",
      "source": [
        "import numpy as np\n",
        "\n",
        "# Parámetros iniciales\n",
        "capital_inicial = 1000000  # Capital inicial en la cartera de crédito\n",
        "tasa_interes = 0.08  # Tasa de interés promedio de los créditos\n",
        "num_clientes = 1000  # Número de clientes en la cartera"
      ],
      "metadata": {
        "id": "eyUXoLBgFguG"
      },
      "execution_count": null,
      "outputs": []
    },
    {
      "cell_type": "code",
      "source": [
        "# Generación de datos aleatorios para los montos de los créditos\n",
        "np.random.seed(0)\n",
        "montos_creditos = np.random.uniform(5000, 50000, num_clientes)\n",
        "\n",
        "# Función para calcular la pérdida por crédito\n",
        "def calcular_perdida(monto, tasa_morosidad):\n",
        "    return monto * tasa_morosidad\n",
        "\n",
        "# Función para simular el stress testing usando Monte Carlo\n",
        "def simular_stress_testing(num_simulaciones, media, desviacion):\n",
        "    perdidas_totales_simuladas = []\n",
        "    for _ in range(num_simulaciones):\n",
        "        # Generar una tasa de morosidad aleatoria para cada simulación\n",
        "        tasa_morosidad = np.random.normal(media, desviacion)\n",
        "\n",
        "        # Calcular las pérdidas totales para esta simulación\n",
        "        perdidas_totales = sum(calcular_perdida(monto, tasa_morosidad) for monto in montos_creditos)\n",
        "        perdidas_totales_simuladas.append(perdidas_totales)\n",
        "\n",
        "    return perdidas_totales_simuladas"
      ],
      "metadata": {
        "id": "zkfOureyFgqm"
      },
      "execution_count": null,
      "outputs": []
    },
    {
      "cell_type": "code",
      "source": [
        "# Parámetros de la simulación Monte Carlo\n",
        "num_simulaciones = 1000  # Número de simulaciones\n",
        "media_tasa_morosidad = 0.03  # Media de la tasa de morosidad\n",
        "desviacion_tasa_morosidad = 0.01  # Desviación estándar de la tasa de morosidad\n",
        "\n",
        "# Realizar la simulación Monte Carlo\n",
        "perdidas_totales_simuladas = simular_stress_testing(num_simulaciones, media_tasa_morosidad, desviacion_tasa_morosidad)\n",
        "\n",
        "# Calcular estadísticas de las pérdidas totales simuladas\n",
        "perdidas_promedio = np.mean(perdidas_totales_simuladas)\n",
        "perdidas_std = np.std(perdidas_totales_simuladas)\n",
        "percentil_95 = np.percentile(perdidas_totales_simuladas, 95)\n",
        "\n",
        "# Resultados\n",
        "print(\"Resultados del stress testing usando simulación Monte Carlo:\")\n",
        "print(f\"Pérdidas promedio estimadas: ${perdidas_promedio:,.2f}\")\n",
        "print(f\"Desviación estándar de las pérdidas: ${perdidas_std:,.2f}\")\n",
        "print(f\"Pérdidas en el percentil 95: ${percentil_95:,.2f}\")"
      ],
      "metadata": {
        "colab": {
          "base_uri": "https://localhost:8080/"
        },
        "id": "piaem7QTFgnu",
        "outputId": "b472e4f0-8ca1-40ad-dfdf-c157d4bdf877"
      },
      "execution_count": null,
      "outputs": [
        {
          "output_type": "stream",
          "name": "stdout",
          "text": [
            "Resultados del stress testing usando simulación Monte Carlo:\n",
            "Pérdidas promedio estimadas: $827,427.92\n",
            "Desviación estándar de las pérdidas: $263,923.21\n",
            "Pérdidas en el percentil 95: $1,273,231.47\n"
          ]
        }
      ]
    },
    {
      "cell_type": "code",
      "source": [],
      "metadata": {
        "id": "VOBUreNiFglG"
      },
      "execution_count": null,
      "outputs": []
    },
    {
      "cell_type": "code",
      "source": [],
      "metadata": {
        "id": "B6nToCZKFgiY"
      },
      "execution_count": null,
      "outputs": []
    }
  ]
}